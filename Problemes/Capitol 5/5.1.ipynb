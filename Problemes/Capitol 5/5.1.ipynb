{
 "cells": [
  {
   "cell_type": "markdown",
   "metadata": {
    "id": "uKjD-YYhgnBF"
   },
   "source": [
    "# Capítol 5 - Dividir i Vèncer"
   ]
  },
  {
   "cell_type": "markdown",
   "metadata": {
    "id": "zugYoY0MgnBH"
   },
   "source": [
    "### 5.1 Suma Llista"
   ]
  },
  {
   "cell_type": "code",
   "execution_count": 1,
   "metadata": {
    "id": "pJQk7MrugnBI"
   },
   "outputs": [],
   "source": [
    "def suma_llista(llista):\n",
    "    \"\"\"\n",
    "    Aquesta funció implementa la suma recursiva d'una llista\n",
    "    \n",
    "    Parameters\n",
    "    ----------\n",
    "    llista: list\n",
    "    \n",
    "    Returns\n",
    "    -------\n",
    "    suma: int\n",
    "          La suma de tots els elements de la llista d'entrada\n",
    "    \"\"\"\n",
    "\n",
    "    suma = 0\n",
    "\n",
    "    for i in llista:\n",
    "        suma += i\n",
    "\n",
    "    return suma"
   ]
  },
  {
   "cell_type": "code",
   "execution_count": 2,
   "metadata": {
    "id": "eKuG_vjTgnBI"
   },
   "outputs": [],
   "source": [
    "assert suma_llista([1,2,3,4]) == 10\n",
    "assert suma_llista([-1,-2,0,1,2]) == 0"
   ]
  },
  {
   "cell_type": "markdown",
   "metadata": {},
   "source": [
    "La complexitat de l'algorisme és O(n)."
   ]
  }
 ],
 "metadata": {
  "colab": {
   "collapsed_sections": [],
   "name": "5.1.ipynb",
   "provenance": []
  },
  "kernelspec": {
   "display_name": "Python 3",
   "language": "python",
   "name": "python3"
  },
  "language_info": {
   "codemirror_mode": {
    "name": "ipython",
    "version": 3
   },
   "file_extension": ".py",
   "mimetype": "text/x-python",
   "name": "python",
   "nbconvert_exporter": "python",
   "pygments_lexer": "ipython3",
   "version": "3.11.9"
  }
 },
 "nbformat": 4,
 "nbformat_minor": 1
}
