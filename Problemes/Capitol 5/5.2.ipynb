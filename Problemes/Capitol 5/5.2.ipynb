{
 "cells": [
  {
   "cell_type": "markdown",
   "metadata": {
    "id": "z3lp7QgqhXIg"
   },
   "source": [
    "# Capítol 5 - Dividir i Vèncer"
   ]
  },
  {
   "cell_type": "markdown",
   "metadata": {
    "id": "49cQQoRrhXIk"
   },
   "source": [
    "### 5.2 Nombre no repetit"
   ]
  },
  {
   "cell_type": "code",
   "execution_count": null,
   "metadata": {
    "id": "BXoWbjdvhXIl"
   },
   "outputs": [],
   "source": [
    "def busca_unic(llista):\n",
    "    \"\"\"\n",
    "    Aquesta funció busca l'element que només surt una vegada.\n",
    "    \n",
    "    Parameters\n",
    "    ----------\n",
    "    llista: list\n",
    "    \n",
    "    Returns\n",
    "    -------\n",
    "    num: int\n",
    "    \"\"\"\n",
    "    \n",
    "    return num\n",
    "    "
   ]
  },
  {
   "cell_type": "code",
   "execution_count": null,
   "metadata": {
    "id": "4-jOEkijhXIm",
    "outputId": "20c21f25-7970-4eea-a178-c1bdcbfe7f19"
   },
   "outputs": [
    {
     "name": "stdout",
     "output_type": "stream",
     "text": [
      "0 8 4\n",
      "0 4 2\n",
      "0 2 1\n"
     ]
    }
   ],
   "source": [
    "assert busca_unic([ 1, 1, 2, 4, 4, 5, 5, 6, 6 ]) == 2"
   ]
  },
  {
   "cell_type": "markdown",
   "metadata": {},
   "source": [
    "La complexitat de l'algorisme és O( )."
   ]
  }
 ],
 "metadata": {
  "colab": {
   "collapsed_sections": [],
   "name": "5.2.ipynb",
   "provenance": []
  },
  "kernelspec": {
   "display_name": "Python 3 (ipykernel)",
   "language": "python",
   "name": "python3"
  },
  "language_info": {
   "codemirror_mode": {
    "name": "ipython",
    "version": 3
   },
   "file_extension": ".py",
   "mimetype": "text/x-python",
   "name": "python",
   "nbconvert_exporter": "python",
   "pygments_lexer": "ipython3",
   "version": "3.9.13"
  }
 },
 "nbformat": 4,
 "nbformat_minor": 1
}
