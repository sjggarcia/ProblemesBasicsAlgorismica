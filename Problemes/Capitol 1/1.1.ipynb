{
 "cells": [
  {
   "cell_type": "markdown",
   "id": "7d85b48e",
   "metadata": {},
   "source": [
    "# Capítol 1 - Què és l'algorísmica?"
   ]
  },
  {
   "cell_type": "markdown",
   "id": "4d4e24e6",
   "metadata": {},
   "source": [
    "## 1.1 Notació gran $O$"
   ]
  },
  {
   "cell_type": "markdown",
   "id": "3e01fa67",
   "metadata": {},
   "source": [
    "### Pregunta 1\n",
    "\n",
    "Segons les indicacions donades anteriorment, calcula l'ordre de complexitat segons la notació gran $O$ d'uns algorismes que fan el nombre d'operacions següent:\n",
    "1.  $ n^2 + 2n$\n",
    "2.  $ 3n^2 + \\log(n)$\n",
    "3.  $ 2^n + n^5$\n",
    "4.  $ n^3 + n^2\\log(n) + n + 5$\n",
    "\n",
    "**Resposta:**\n"
   ]
  },
  {
   "cell_type": "markdown",
   "id": "37320276",
   "metadata": {},
   "source": [
    "1. $n^2$\n",
    "2. $n^2$\n",
    "3. $2^n$\n",
    "4. $n^2$"
   ]
  },
  {
   "cell_type": "markdown",
   "id": "eb4bcd2d",
   "metadata": {},
   "source": [
    "### Pregunta 2\n",
    "\n",
    "Té sentit un algorisme de complexitat $O(n!)$ per a $n = 50$? Per què?\n",
    "\n",
    "**Resposta:** "
   ]
  },
  {
   "cell_type": "markdown",
   "id": "43c90153",
   "metadata": {},
   "source": [
    "No té sentit perquè els algorismes de complexitat O(n!) no tenen sentit a partir de n = 20."
   ]
  },
  {
   "cell_type": "markdown",
   "id": "159cc2ec",
   "metadata": {},
   "source": [
    "### Pregunta 3\n",
    "\n",
    "Calcula la complexitat total d'aquests codis d'exemple:\n",
    "\n",
    "```python\n",
    "def codi1():\n",
    "    op1 # Complexitat O(1)\n",
    "    op2 # Complexitat O(n)\n",
    "    for i in range(0, n):\n",
    "        op3 # Complexitat O(n)\n",
    "    if cond:\n",
    "        op4 # Complexitat O(n)\n",
    "    else:\n",
    "        op5 # Complexitat O(n^2)\n",
    "```\n",
    "\n",
    "```python\n",
    "def codi2():\n",
    "    for i in range(0, 2*n):\n",
    "        for j in range(0, n*n):\n",
    "            op1 # Complexitat O(n)\n",
    "```\n",
    "\n",
    "**Resposta:**\n",
    "+ Complexitat codi1: $n^2$\n",
    "+ Complexitat codi2: $n^2$"
   ]
  },
  {
   "cell_type": "markdown",
   "id": "b39cc2d2",
   "metadata": {},
   "source": []
  }
 ],
 "metadata": {
  "kernelspec": {
   "display_name": "Python 3 (ipykernel)",
   "language": "python",
   "name": "python3"
  },
  "language_info": {
   "codemirror_mode": {
    "name": "ipython",
    "version": 3
   },
   "file_extension": ".py",
   "mimetype": "text/x-python",
   "name": "python",
   "nbconvert_exporter": "python",
   "pygments_lexer": "ipython3",
   "version": "3.7.10"
  }
 },
 "nbformat": 4,
 "nbformat_minor": 5
}
