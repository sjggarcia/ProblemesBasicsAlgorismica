{
 "cells": [
  {
   "cell_type": "markdown",
   "metadata": {
    "id": "Wwhw_mq0ZtJB"
   },
   "source": [
    "# Capítol 4 - Algorismes i Text"
   ]
  },
  {
   "cell_type": "markdown",
   "metadata": {
    "id": "i1CEFICYZtJO"
   },
   "source": [
    "### 4.7 Subcadena més llarga sense cap caràcter repetit"
   ]
  },
  {
   "cell_type": "markdown",
   "metadata": {},
   "source": [
    "<div style=\"background-color:rgba(0, 0, 0, 0.2); text-align:left; vertical-align: middle;  border-radius:10px\">\n",
    "    <div style=\"padding: 20px\">\n",
    "    <h3>Correcció d'errates: </h3>\n",
    "        <p>La resolució es troba al final del llibre, sota l'etiqueta <B>\"Problema 4.8, pàgina 60\"</B>. Està mal etiquetat, hauria de ser <B>\"Problema 4.7, pàgina 59\"</B></p>\n",
    "    </div>\n",
    "</div>"
   ]
  },
  {
   "cell_type": "code",
   "execution_count": null,
   "metadata": {
    "id": "i2meRnZHZtJO"
   },
   "outputs": [],
   "source": [
    "def subcadena_mes_llarga(cadena):\n",
    "    \"\"\"\n",
    "    Aquesta funció identifica la subcadena més llarga sense cap caràcter repetit.\n",
    "    \n",
    "    Parameters\n",
    "    ----------\n",
    "    cadena: string \n",
    "        Cadena donada\n",
    "        \n",
    "    Returns\n",
    "    -------\n",
    "    subcadena: string\n",
    "        Subcadena més llarga sense caràcters repetits\n",
    "    \"\"\"\n",
    "    iniciSubcadena = 0\n",
    "    finalSubcadena = 0\n",
    "\n",
    "\n",
    "    return cadena[iniciSubcadena:finalSubcadena]"
   ]
  },
  {
   "cell_type": "code",
   "execution_count": null,
   "metadata": {
    "id": "ROtgFUKbZtJO"
   },
   "outputs": [],
   "source": [
    "assert subcadena_mes_llarga('lacadenamesllarga') == 'namesl'\n",
    "assert subcadena_mes_llarga('mesllarga') == 'mesl'\n",
    "assert subcadena_mes_llarga('aaa') ==  'a'"
   ]
  },
  {
   "cell_type": "markdown",
   "metadata": {
    "id": "Lq4upSCXZtJP"
   },
   "source": [
    "La complexitat de l'algorisme és O( )."
   ]
  }
 ],
 "metadata": {
  "colab": {
   "collapsed_sections": [],
   "name": "4.7.ipynb",
   "provenance": []
  },
  "kernelspec": {
   "display_name": "Python 3 (ipykernel)",
   "language": "python",
   "name": "python3"
  },
  "language_info": {
   "codemirror_mode": {
    "name": "ipython",
    "version": 3
   },
   "file_extension": ".py",
   "mimetype": "text/x-python",
   "name": "python",
   "nbconvert_exporter": "python",
   "pygments_lexer": "ipython3",
   "version": "3.9.13"
  }
 },
 "nbformat": 4,
 "nbformat_minor": 4
}
