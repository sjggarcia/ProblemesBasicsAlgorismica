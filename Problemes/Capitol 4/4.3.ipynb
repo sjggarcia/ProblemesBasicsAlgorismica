{
 "cells": [
  {
   "cell_type": "markdown",
   "metadata": {
    "id": "5FyFNqIKdPSY"
   },
   "source": [
    "# Capítol 4 - Algorismes i Text"
   ]
  },
  {
   "cell_type": "markdown",
   "metadata": {},
   "source": [
    "<div style=\"background-color:rgba(0, 0, 0, 0.2); text-align:left; vertical-align: middle;  border-radius:10px\">\n",
    "    <div style=\"padding: 20px\">\n",
    "    <h3>Correcció d'errates: </h3>\n",
    "        <p>L'exemple proporcionat al llibre: <span style=\"font-family: Consolas\"> a = \"TEULADES\" i b = \"PISCINES\"</span> no és correcte, ja que la primera <span style=\"font-family: Consolas\">\"E\" de t<B>e</B>ulades</span> correspondria a una <span style=\"font-family: Consolas\">\"I\" a p<B>i</B>scines</span>, però la segona <span style=\"font-family: Consolas\">\"E\" de teulad<B>e</B>s</span> correspon a una <span style=\"font-family: Consolas\">\"E\" a piscin<B>e</B>s</span>. Alhora, la primera <span style=\"font-family: Consolas\">\"I\" de p<B>i</B>sicnes</span> correspon a una <span style=\"font-family: Consolas\">\"E\" a t<B>e</B>ulades</span>, però la segona <span style=\"font-family: Consolas\">\"I\" a pisc<B>i</B>nes</span> correspon a una <span style=\"font-family: Consolas\">\"A\" a teul<B>a</B>des</span>. Per tant les correspondències indicades: <br></p>\n",
    " <p style=\"width: 100%;text-align: center\">T &#8596; P, <B>E &#8596; I</B>, U &#8596; S, L &#8596; C, D &#8596; N</p><p>no són correctes</p>\n",
    "        <p>Podem prendre, per exemple: <span style=\"font-family: Consolas\"> a = \"AGENDA\" i b = \"RUMIAR\"</span> i veiem que hi ha les correspondències </p><p span style=\"width: 100%;text-align: center\">A &#8596; R, G &#8596; U, E &#8596; M, N &#8596; I, D &#8596; A</p>\n",
    "    </div>\n",
    "</div>"
   ]
  },
  {
   "cell_type": "markdown",
   "metadata": {
    "id": "-hs_7U4JdPSe"
   },
   "source": [
    "### 4.3 Cadenes Isomorfes"
   ]
  },
  {
   "cell_type": "code",
   "execution_count": null,
   "metadata": {
    "id": "x6GSTFjddPSf"
   },
   "outputs": [],
   "source": [
    "def isomorf(cadX, cadY):\n",
    "    \"\"\"\n",
    "    Aquesta funció comprova si dues cadenes son isomorfes\n",
    "    \n",
    "    Parameters\n",
    "    ----------\n",
    "    cadX: String\n",
    "    cadY: String\n",
    "    \n",
    "    Returns\n",
    "    -------\n",
    "    esIsomorf: bool\n",
    "    \"\"\"\n",
    "\n",
    "    esIsomorf = False\n",
    "\n",
    "    \n",
    "    return esIsomorf\n",
    "\n",
    "isomorf('CBAABC', 'DEFFED')"
   ]
  },
  {
   "cell_type": "code",
   "execution_count": null,
   "metadata": {
    "id": "xH5A13U0dPSf"
   },
   "outputs": [],
   "source": [
    "assert isomorf('CBAABC', 'DEFFED') == True\n",
    "assert isomorf('XXX', 'YYY') == True\n",
    "assert isomorf('RAMBUNCTIOUSLY', 'THERMODYNAMICS') == True\n",
    "assert isomorf('XXY', 'XYY') == False\n",
    "assert isomorf('ABAB', 'CD') == False"
   ]
  },
  {
   "cell_type": "code",
   "execution_count": null,
   "metadata": {
    "id": "ikPgEuOvdPSf"
   },
   "outputs": [],
   "source": []
  },
  {
   "cell_type": "code",
   "execution_count": null,
   "metadata": {
    "id": "53Y90JNBdPSf"
   },
   "outputs": [],
   "source": [
    "def tria_paraules_isomorfes(llista, paraula):\n",
    "    \"\"\"\n",
    "    Aquesta funció retorna totes les paraules d'una llista isomorfes a una paraula en concret.\n",
    "    \n",
    "    Parameters\n",
    "    ----------\n",
    "    llista: list\n",
    "    paraula: sting\n",
    "    \n",
    "    Returns\n",
    "    -------\n",
    "    llistaIsomorfes: list\n",
    "    \"\"\"\n",
    "    return llistaIsomorfes"
   ]
  },
  {
   "cell_type": "code",
   "execution_count": null,
   "metadata": {
    "id": "Ppww4QmrdPSg"
   },
   "outputs": [],
   "source": [
    "assert tria_paraules_isomorfes(['gag', 'sos', 'mim', 'gat', 'gos'], 'rar') == ['gag', 'sos', 'mim']\n",
    "assert tria_paraules_isomorfes(['gag', 'sos', 'mim', 'gat', 'gos'], 'rap') == ['gat', 'gos']"
   ]
  }
 ],
 "metadata": {
  "colab": {
   "collapsed_sections": [],
   "name": "4.3.ipynb",
   "provenance": []
  },
  "kernelspec": {
   "display_name": "Python 3",
   "language": "python",
   "name": "python3"
  },
  "language_info": {
   "codemirror_mode": {
    "name": "ipython",
    "version": 3
   },
   "file_extension": ".py",
   "mimetype": "text/x-python",
   "name": "python",
   "nbconvert_exporter": "python",
   "pygments_lexer": "ipython3",
   "version": "3.11.9"
  }
 },
 "nbformat": 4,
 "nbformat_minor": 1
}
