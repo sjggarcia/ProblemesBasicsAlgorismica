{
 "cells": [
  {
   "cell_type": "markdown",
   "metadata": {
    "id": "KB3KAlcFUTai"
   },
   "source": [
    "# Capítol 3 - Algorismes i Nombres"
   ]
  },
  {
   "cell_type": "markdown",
   "metadata": {
    "id": "lESOpOrkUTak"
   },
   "source": [
    "### 3.1 Divisió entera"
   ]
  },
  {
   "cell_type": "code",
   "execution_count": 1,
   "metadata": {
    "id": "Qym49fpTUTal"
   },
   "outputs": [],
   "source": [
    "def divisio_entera(dividend, divisor):  \n",
    "    \"\"\"\n",
    "    Aquesta funció calcula la divisió entera de dos nombres naturals.\n",
    "    Atenció: No es poden utilitzar els operadors: *, /, %.\n",
    "    \n",
    "    Parameters\n",
    "    ----------\n",
    "    dividend: int\n",
    "    divisor: int\n",
    "    \n",
    "    Returns\n",
    "    -------\n",
    "    quocient: int\n",
    "    \"\"\"\n",
    "\n",
    "    quocient = dividend//divisor\n",
    "    \n",
    "    return quocient"
   ]
  },
  {
   "cell_type": "code",
   "execution_count": 2,
   "metadata": {
    "id": "q68LWvO4UTam"
   },
   "outputs": [],
   "source": [
    "assert divisio_entera(10,2) == 5\n",
    "assert divisio_entera(9,2) == 4"
   ]
  }
 ],
 "metadata": {
  "colab": {
   "collapsed_sections": [],
   "name": "3.1.ipynb",
   "provenance": []
  },
  "kernelspec": {
   "display_name": "Python 3",
   "language": "python",
   "name": "python3"
  },
  "language_info": {
   "codemirror_mode": {
    "name": "ipython",
    "version": 3
   },
   "file_extension": ".py",
   "mimetype": "text/x-python",
   "name": "python",
   "nbconvert_exporter": "python",
   "pygments_lexer": "ipython3",
   "version": "3.11.9"
  }
 },
 "nbformat": 4,
 "nbformat_minor": 4
}
