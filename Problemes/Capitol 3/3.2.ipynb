{
 "cells": [
  {
   "cell_type": "markdown",
   "metadata": {
    "id": "KB3KAlcFUTai"
   },
   "source": [
    "# Capítol 3 - Algorismes i Nombres"
   ]
  },
  {
   "cell_type": "markdown",
   "metadata": {
    "id": "aSN4GzA2UTam"
   },
   "source": [
    "### 3.2 El Màxim Comú Divisor i les seves aplicacions"
   ]
  },
  {
   "cell_type": "code",
   "execution_count": 6,
   "metadata": {
    "id": "eU2pBV6yUTam"
   },
   "outputs": [],
   "source": [
    "def reduir_fraccio(numerador, denominador):\n",
    "    \"\"\"\n",
    "    Funció que retorna l'expressio irreductible d'una fracció\n",
    "    \n",
    "    Parameters\n",
    "    ----------\n",
    "    numerador: int\n",
    "    denominador: int\n",
    "    \n",
    "    Returns\n",
    "    -------\n",
    "    numReduit: int\n",
    "    denReduit: int\n",
    "    \"\"\"\n",
    "    \n",
    "    for i in range(1,numerador+1):\n",
    "        if numerador%i == 0 and denominador%i == 0:\n",
    "            numReduit = numerador//i\n",
    "            denReduit = denominador//i\n",
    "\n",
    "    return (numReduit,denReduit)"
   ]
  },
  {
   "cell_type": "code",
   "execution_count": 7,
   "metadata": {
    "id": "9J9Oq82_UTan"
   },
   "outputs": [],
   "source": [
    "assert reduir_fraccio(12, 8) == (3,2)"
   ]
  }
 ],
 "metadata": {
  "colab": {
   "collapsed_sections": [],
   "name": "3.2.ipynb",
   "provenance": []
  },
  "kernelspec": {
   "display_name": "Python 3",
   "language": "python",
   "name": "python3"
  },
  "language_info": {
   "codemirror_mode": {
    "name": "ipython",
    "version": 3
   },
   "file_extension": ".py",
   "mimetype": "text/x-python",
   "name": "python",
   "nbconvert_exporter": "python",
   "pygments_lexer": "ipython3",
   "version": "3.11.9"
  }
 },
 "nbformat": 4,
 "nbformat_minor": 1
}
