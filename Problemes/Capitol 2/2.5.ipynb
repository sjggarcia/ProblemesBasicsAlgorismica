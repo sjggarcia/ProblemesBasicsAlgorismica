{
 "cells": [
  {
   "cell_type": "markdown",
   "metadata": {
    "id": "3bYGguNLQHkx"
   },
   "source": [
    "# Capítol 2 - Algorismes bàsics de Python"
   ]
  },
  {
   "cell_type": "markdown",
   "metadata": {
    "id": "qNc1ZW6YQHk9"
   },
   "source": [
    "### 2.5 Capicua"
   ]
  },
  {
   "cell_type": "code",
   "execution_count": 1,
   "metadata": {
    "id": "OE1WxdHRQHk9"
   },
   "outputs": [],
   "source": [
    "def es_capicua(paraula):\n",
    "    \"\"\"\n",
    "    Aquesta funció determina si una paraula és capicua.\n",
    "    \n",
    "    Parameters\n",
    "    ----------\n",
    "    paraula: string\n",
    "        La paraula a determinar\n",
    "    \n",
    "    Returns\n",
    "    -------\n",
    "    b: bool\n",
    "        true si la paraula és capicua, false altrament\n",
    "    \"\"\"    \n",
    "    \n",
    "    b = False\n",
    "\n",
    "    inv_paraula = paraula[::-1]\n",
    "\n",
    "    if paraula == inv_paraula:\n",
    "        b = True\n",
    "    \n",
    "    return b"
   ]
  },
  {
   "cell_type": "code",
   "execution_count": 2,
   "metadata": {
    "id": "7rAEYXY4QHk9"
   },
   "outputs": [],
   "source": [
    "assert es_capicua(\"llull\") == True\n",
    "assert es_capicua(\"llullu\") == False"
   ]
  },
  {
   "cell_type": "code",
   "execution_count": 5,
   "metadata": {
    "id": "T6sulrcOQHk-"
   },
   "outputs": [],
   "source": [
    "def es_capicua_rotacions(paraula): \n",
    "    \"\"\"\n",
    "    Aquesta funció determina si una paraula és capicua aplicant rotacions.\n",
    "    \n",
    "    Parameters\n",
    "    ----------\n",
    "    paraula: string\n",
    "        La paraula a determinar\n",
    "    \n",
    "    Returns\n",
    "    -------\n",
    "    b: bool\n",
    "        true si la paraula és capicua, false altrament\n",
    "    \"\"\"   \n",
    "    b = False\n",
    "    rotacions = []\n",
    "\n",
    "    for i in range(len(paraula)):\n",
    "        rotacio = paraula[i:] + paraula[:i]\n",
    "        rotacions.append(rotacio)\n",
    "\n",
    "    for j in rotacions:\n",
    "        if j == j[::-1]:\n",
    "            b = True\n",
    "\n",
    "    return b"
   ]
  },
  {
   "cell_type": "code",
   "execution_count": 6,
   "metadata": {
    "id": "fEp8tMiVQHk-",
    "outputId": "157f9908-d70b-4419-e028-84fc12e0a43c"
   },
   "outputs": [],
   "source": [
    "assert es_capicua_rotacions(\"BAABCC\") == True"
   ]
  }
 ],
 "metadata": {
  "colab": {
   "collapsed_sections": [],
   "name": "2.5.ipynb",
   "provenance": []
  },
  "kernelspec": {
   "display_name": "Python 3",
   "language": "python",
   "name": "python3"
  },
  "language_info": {
   "codemirror_mode": {
    "name": "ipython",
    "version": 3
   },
   "file_extension": ".py",
   "mimetype": "text/x-python",
   "name": "python",
   "nbconvert_exporter": "python",
   "pygments_lexer": "ipython3",
   "version": "3.11.9"
  }
 },
 "nbformat": 4,
 "nbformat_minor": 4
}
