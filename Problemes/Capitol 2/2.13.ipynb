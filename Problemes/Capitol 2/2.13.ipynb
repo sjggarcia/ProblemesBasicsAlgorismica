{
 "cells": [
  {
   "cell_type": "markdown",
   "metadata": {},
   "source": [
    "# Capítol 2 - Algorismes bàsics de Python"
   ]
  },
  {
   "cell_type": "markdown",
   "metadata": {},
   "source": [
    "### 2.13  Nombres perfectes"
   ]
  },
  {
   "cell_type": "code",
   "execution_count": 3,
   "metadata": {},
   "outputs": [],
   "source": [
    "def perfecte(num):\n",
    "    \"\"\"\n",
    "    Aquesta funció comprova si un nombre es perfecte.\n",
    "    \n",
    "    Parameters\n",
    "    ----------\n",
    "    num: int\n",
    "        El número que es vol comprovar\n",
    "    \n",
    "    Returns\n",
    "    -------\n",
    "    b: bool\n",
    "        Si el nombre d'entrada és un nombre perfecte\n",
    "    \n",
    "    \"\"\"\n",
    "\n",
    "    sumaDivisors = 0\n",
    "    b = False\n",
    "\n",
    "    for i in range(1, num):\n",
    "        if num%i == 0:\n",
    "            sumaDivisors += i\n",
    "    \n",
    "    if num == sumaDivisors:\n",
    "        b = True\n",
    "\n",
    "\n",
    "    return b"
   ]
  },
  {
   "cell_type": "code",
   "execution_count": 4,
   "metadata": {},
   "outputs": [],
   "source": [
    "assert perfecte(28) == True\n",
    "assert perfecte(6) == True\n",
    "assert perfecte(8) == False"
   ]
  }
 ],
 "metadata": {
  "colab": {
   "collapsed_sections": [],
   "name": "2.13.ipynb",
   "provenance": []
  },
  "kernelspec": {
   "display_name": "Python 3",
   "language": "python",
   "name": "python3"
  },
  "language_info": {
   "codemirror_mode": {
    "name": "ipython",
    "version": 3
   },
   "file_extension": ".py",
   "mimetype": "text/x-python",
   "name": "python",
   "nbconvert_exporter": "python",
   "pygments_lexer": "ipython3",
   "version": "3.11.9"
  }
 },
 "nbformat": 4,
 "nbformat_minor": 4
}
