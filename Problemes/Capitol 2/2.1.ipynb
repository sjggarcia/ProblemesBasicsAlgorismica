{
 "cells": [
  {
   "cell_type": "markdown",
   "metadata": {
    "id": "FggQrraiS3od"
   },
   "source": [
    "# Capítol 2 - Algorismes bàsics de Python"
   ]
  },
  {
   "cell_type": "markdown",
   "metadata": {
    "id": "l87L2KTSS3of"
   },
   "source": [
    "### 2.1 Celsius2Fahrenheit"
   ]
  },
  {
   "cell_type": "code",
   "execution_count": null,
   "metadata": {
    "id": "LQoA8FzLS3og"
   },
   "outputs": [],
   "source": [
    "def convertTemp(tempCelsius):\n",
    "    \"\"\"\n",
    "    Aquest programa calcula la conversió de Celsius que entra per paràmetre en Farenheit.\n",
    "    \n",
    "    Parameters\n",
    "    ----------\n",
    "    tempCelsius: float\n",
    "        Graus en Celsius\n",
    "    \n",
    "    Returns\n",
    "    -------\n",
    "    tempFahrenheit: float\n",
    "        Graus en Farenheit\n",
    "    \"\"\"  \n",
    "    tempFahrenheit  celsius * 9/5 + 32\n",
    "    return tempFahrenheit"
   ]
  },
  {
   "cell_type": "code",
   "execution_count": null,
   "metadata": {
    "id": "XsLQ47HsS3oh"
   },
   "outputs": [],
   "source": [
    "assert convertTemp(0) == 32.\n",
    "assert convertTemp(5) == 41.\n",
    "assert convertTemp(10) == 50.\n",
    "assert convertTemp(-5) == 23.\n",
    "assert convertTemp(-10) == 14."
   ]
  },
  {
   "cell_type": "code",
   "execution_count": null,
   "metadata": {
    "id": "Lo0233EhS3oh"
   },
   "outputs": [],
   "source": [
    "def convert0a50():\n",
    "    \"\"\"\n",
    "    Aquest programa calcula la conversió de Celsius a Fahrenheit \n",
    "    cada 5 graus de 0 a 50ºC.\n",
    "    \n",
    "    Parameters\n",
    "    ----------\n",
    "    None\n",
    "    \n",
    "    Returns\n",
    "    -------\n",
    "    tempFahrenheit: list\n",
    "        Llista amb els graus en Farenheit\n",
    "    \"\"\" \n",
    "    \n",
    "    return tempFahrenheit"
   ]
  },
  {
   "cell_type": "code",
   "execution_count": null,
   "metadata": {
    "id": "Ve7SX3aIS3oi"
   },
   "outputs": [],
   "source": [
    "def convert0a50():\n",
    "    \"\"\"\n",
    "    Aquest programa calcula la conversió de Celsius a Fahrenheit \n",
    "    cada 5 graus de 0 a 50ºC.\n",
    "    \n",
    "    Parameters\n",
    "    ----------\n",
    "    None\n",
    "    \n",
    "    Returns\n",
    "    -------\n",
    "    tempFahrenheit: list\n",
    "        Llista amb els graus en Farenheit\n",
    "    \"\"\" \n",
    "    \n",
    "    return tempFahrenheit"
   ]
  },
  {
   "cell_type": "code",
   "execution_count": null,
   "metadata": {
    "id": "TWPcQpd4S3oi"
   },
   "outputs": [],
   "source": [
    "assert convert0a50() == [32.0, 41.0, 50.0, 59.0, 68.0, 77.0, 86.0, 95.0, 104.0, 113.0, 122.0]"
   ]
  }
 ],
 "metadata": {
  "colab": {
   "collapsed_sections": [],
   "name": "2.1.ipynb",
   "provenance": []
  },
  "kernelspec": {
   "display_name": "Python 3 (ipykernel)",
   "language": "python",
   "name": "python3"
  },
  "language_info": {
   "codemirror_mode": {
    "name": "ipython",
    "version": 3
   },
   "file_extension": ".py",
   "mimetype": "text/x-python",
   "name": "python",
   "nbconvert_exporter": "python",
   "pygments_lexer": "ipython3",
   "version": "3.9.13"
  }
 },
 "nbformat": 4,
 "nbformat_minor": 1
}
