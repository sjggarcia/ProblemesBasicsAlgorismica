{
 "cells": [
  {
   "cell_type": "markdown",
   "metadata": {
    "id": "_FgDcqdYOBF4"
   },
   "source": [
    "# Capítol 2 - Algorismes bàsics de Python"
   ]
  },
  {
   "cell_type": "markdown",
   "metadata": {
    "id": "1SsF8yNtOBGI"
   },
   "source": [
    "### 2.10 Sumatori de Parelles"
   ]
  },
  {
   "cell_type": "markdown",
   "metadata": {},
   "source": [
    "<div style=\"background-color:rgba(0, 0, 0, 0.2); text-align:left; vertical-align: middle;  border-radius:10px\">\n",
    "    <div style=\"padding: 20px\">\n",
    "    <h3>Correcció d'errates: </h3>\n",
    "        <p>L’enunciat diu \"L’algorisme pot tenir una complexitat d’ordre $\\mathcal{O}(n^2)$ però el cost exacte ha de ser menor que $n^2$.\". Una millor manera de dir-ho seria: “L’algorisme pot tenir una complexitat d’ordre $\\mathcal{O}(n^2)$ o menys” ja que es pot resoldre amb complexitat menor que $n^2$.</p>\n",
    "    </div>\n",
    "</div>"
   ]
  },
  {
   "cell_type": "code",
   "execution_count": 7,
   "metadata": {
    "id": "13mdkQbVOBGI"
   },
   "outputs": [],
   "source": [
    "def sumatori_parelles(llista, valorSuma):\n",
    "    \"\"\"\n",
    "    Aquesta funció trobat totes les parelles de nombres que sumin el valor.\n",
    "    \n",
    "    Parameters\n",
    "    ----------\n",
    "    llista: list\n",
    "        La llista d'enters\n",
    "    valorSuma: int\n",
    "        valor que \n",
    "    \n",
    "    Returns\n",
    "    -------\n",
    "    parelles: list\n",
    "        Una llista de parelles la suma de la qual és igual a valorSuma.\n",
    "        Les parelles no s'han de repetir a la llista i el primer element de\n",
    "        la parella serà el que tingui valor més baix.\n",
    "    \"\"\"\n",
    "\n",
    "    parelles = []\n",
    "\n",
    "    for i in range(len(llista)):\n",
    "        for j in range(i,len(llista)-1):\n",
    "                if (llista[i] + llista[j]) == valorSuma:\n",
    "                    parelles.append((llista[i], llista[j]))\n",
    "\n",
    "    return parelles   "
   ]
  },
  {
   "cell_type": "code",
   "execution_count": 8,
   "metadata": {
    "id": "E-q3_SwzOBGI"
   },
   "outputs": [
    {
     "ename": "AssertionError",
     "evalue": "",
     "output_type": "error",
     "traceback": [
      "\u001b[1;31m---------------------------------------------------------------------------\u001b[0m",
      "\u001b[1;31mAssertionError\u001b[0m                            Traceback (most recent call last)",
      "Cell \u001b[1;32mIn[8], line 1\u001b[0m\n\u001b[1;32m----> 1\u001b[0m \u001b[38;5;28;01massert\u001b[39;00m \u001b[38;5;28mset\u001b[39m(sumatori_parelles([\u001b[38;5;241m3\u001b[39m, \u001b[38;5;241m1\u001b[39m, \u001b[38;5;241m5\u001b[39m, \u001b[38;5;241m2\u001b[39m, \u001b[38;5;241m7\u001b[39m, \u001b[38;5;241m8\u001b[39m], \u001b[38;5;241m10\u001b[39m))  \u001b[38;5;241m==\u001b[39m \u001b[38;5;28mset\u001b[39m([(\u001b[38;5;241m2\u001b[39m, \u001b[38;5;241m8\u001b[39m), (\u001b[38;5;241m3\u001b[39m, \u001b[38;5;241m7\u001b[39m)])\n\u001b[0;32m      2\u001b[0m \u001b[38;5;28;01massert\u001b[39;00m \u001b[38;5;28mset\u001b[39m(sumatori_parelles([\u001b[38;5;241m4\u001b[39m,\u001b[38;5;241m12\u001b[39m,\u001b[38;5;241m7\u001b[39m,\u001b[38;5;241m6\u001b[39m,\u001b[38;5;241m1\u001b[39m,\u001b[38;5;241m3\u001b[39m,\u001b[38;5;241m2\u001b[39m,\u001b[38;5;241m9\u001b[39m,\u001b[38;5;241m11\u001b[39m,\u001b[38;5;241m5\u001b[39m,\u001b[38;5;241m8\u001b[39m,\u001b[38;5;241m20\u001b[39m,\u001b[38;5;241m13\u001b[39m,\u001b[38;5;241m0\u001b[39m,\u001b[38;5;241m14\u001b[39m],\u001b[38;5;241m20\u001b[39m)) \u001b[38;5;241m==\u001b[39m \u001b[38;5;28mset\u001b[39m([(\u001b[38;5;241m0\u001b[39m, \u001b[38;5;241m20\u001b[39m), (\u001b[38;5;241m6\u001b[39m, \u001b[38;5;241m14\u001b[39m), (\u001b[38;5;241m7\u001b[39m, \u001b[38;5;241m13\u001b[39m), (\u001b[38;5;241m8\u001b[39m, \u001b[38;5;241m12\u001b[39m), (\u001b[38;5;241m9\u001b[39m, \u001b[38;5;241m11\u001b[39m)])\n",
      "\u001b[1;31mAssertionError\u001b[0m: "
     ]
    }
   ],
   "source": [
    "assert set(sumatori_parelles([3, 1, 5, 2, 7, 8], 10))  == set([(2, 8), (3, 7)])\n",
    "assert set(sumatori_parelles([4,12,7,6,1,3,2,9,11,5,8,20,13,0,14],20)) == set([(0, 20), (6, 14), (7, 13), (8, 12), (9, 11)])\n",
    "# dona error perquè l'ordre de les parelles és diferent"
   ]
  }
 ],
 "metadata": {
  "colab": {
   "collapsed_sections": [],
   "name": "2.10.ipynb",
   "provenance": []
  },
  "kernelspec": {
   "display_name": "Python 3",
   "language": "python",
   "name": "python3"
  },
  "language_info": {
   "codemirror_mode": {
    "name": "ipython",
    "version": 3
   },
   "file_extension": ".py",
   "mimetype": "text/x-python",
   "name": "python",
   "nbconvert_exporter": "python",
   "pygments_lexer": "ipython3",
   "version": "3.11.9"
  }
 },
 "nbformat": 4,
 "nbformat_minor": 4
}
