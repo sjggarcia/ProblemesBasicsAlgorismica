{
 "cells": [
  {
   "cell_type": "markdown",
   "metadata": {
    "id": "9P8OJEwqOZPo"
   },
   "source": [
    "# Capítol 2 - Algorismes bàsics de Python"
   ]
  },
  {
   "cell_type": "markdown",
   "metadata": {
    "id": "WMsJejoVOZP3"
   },
   "source": [
    "### 2.9 Min max"
   ]
  },
  {
   "cell_type": "code",
   "execution_count": 6,
   "metadata": {
    "id": "AzFb3FUEOZP3"
   },
   "outputs": [],
   "source": [
    "def minim_maxim(llista):\n",
    "    \"\"\"\n",
    "    Aquesta funció troba el valor mínim i el valor màxim.\n",
    "    \n",
    "    Parameters\n",
    "    ----------\n",
    "    llista: list\n",
    "        La llista d'enters\n",
    "    \n",
    "    Returns\n",
    "    -------\n",
    "    min, max: int, int\n",
    "        Els valors mínim i màxim dins la llista\n",
    "    \"\"\"\n",
    "\n",
    "    _min = llista[0]\n",
    "    _max = llista[0]\n",
    "\n",
    "    for i in range(len(llista)):\n",
    "        if _min > llista[i]:\n",
    "            _min = llista[i]\n",
    "        if _max < llista[i]:\n",
    "            _max = llista[i]\n",
    "   \n",
    "    return _min, _max"
   ]
  },
  {
   "cell_type": "code",
   "execution_count": 5,
   "metadata": {
    "id": "gOz5SJVdOZP3"
   },
   "outputs": [],
   "source": [
    "assert minim_maxim([3, 1, 5, 2, 7, 8]) == (1, 8)\n",
    "assert minim_maxim([1, 7, 4, 6, 8, -2, 9, 5]) == (-2, 9)"
   ]
  }
 ],
 "metadata": {
  "colab": {
   "collapsed_sections": [],
   "name": "2.9.ipynb",
   "provenance": []
  },
  "kernelspec": {
   "display_name": "Python 3",
   "language": "python",
   "name": "python3"
  },
  "language_info": {
   "codemirror_mode": {
    "name": "ipython",
    "version": 3
   },
   "file_extension": ".py",
   "mimetype": "text/x-python",
   "name": "python",
   "nbconvert_exporter": "python",
   "pygments_lexer": "ipython3",
   "version": "3.11.9"
  }
 },
 "nbformat": 4,
 "nbformat_minor": 1
}
