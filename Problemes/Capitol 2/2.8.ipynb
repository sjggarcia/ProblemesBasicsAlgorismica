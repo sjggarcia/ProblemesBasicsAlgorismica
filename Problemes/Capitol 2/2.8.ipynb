{
 "cells": [
  {
   "cell_type": "markdown",
   "metadata": {
    "id": "CsC_YaYsOxtB"
   },
   "source": [
    "# Capítol 2 - Algorismes bàsics de Python"
   ]
  },
  {
   "cell_type": "markdown",
   "metadata": {
    "id": "VUTVcJCrOxtT"
   },
   "source": [
    "### 2.8 Factorial menor que un nombre"
   ]
  },
  {
   "cell_type": "code",
   "execution_count": 7,
   "metadata": {
    "id": "uG_r2CsnOxtU"
   },
   "outputs": [
    {
     "data": {
      "text/plain": [
       "[1, 2, 6]"
      ]
     },
     "execution_count": 7,
     "metadata": {},
     "output_type": "execute_result"
    }
   ],
   "source": [
    "def factorial_menor(num):\n",
    "    \"\"\"\n",
    "    Aquesta funció calcula tots els factorials menors a un nombre\n",
    "    \n",
    "    Parameters\n",
    "    ----------\n",
    "    num: int\n",
    "    \n",
    "    Returns\n",
    "    -------\n",
    "    factorials: list\n",
    "    \"\"\"\n",
    "    \n",
    "    llista = []\n",
    "    n = 1\n",
    "    fact = 1\n",
    "\n",
    "    while fact < num:\n",
    "        llista.append(fact)\n",
    "        n += 1\n",
    "        fact *= n\n",
    "    \n",
    "    return llista\n",
    "\n",
    "factorial_menor(20)"
   ]
  },
  {
   "cell_type": "code",
   "execution_count": 8,
   "metadata": {
    "id": "FGHpkkblOxtU"
   },
   "outputs": [],
   "source": [
    "assert factorial_menor(20) == [1, 2, 6]\n",
    "assert factorial_menor(50) == [1, 2, 6, 24]"
   ]
  }
 ],
 "metadata": {
  "colab": {
   "collapsed_sections": [],
   "name": "2.8.ipynb",
   "provenance": []
  },
  "kernelspec": {
   "display_name": "Python 3",
   "language": "python",
   "name": "python3"
  },
  "language_info": {
   "codemirror_mode": {
    "name": "ipython",
    "version": 3
   },
   "file_extension": ".py",
   "mimetype": "text/x-python",
   "name": "python",
   "nbconvert_exporter": "python",
   "pygments_lexer": "ipython3",
   "version": "3.11.9"
  }
 },
 "nbformat": 4,
 "nbformat_minor": 4
}
